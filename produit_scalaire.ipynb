{
  "nbformat": 4,
  "nbformat_minor": 0,
  "metadata": {
    "colab": {
      "provenance": [],
      "authorship_tag": "ABX9TyN5njAaWl8/pwU2r0rrctYI",
      "include_colab_link": true
    },
    "kernelspec": {
      "name": "python3",
      "display_name": "Python 3"
    },
    "language_info": {
      "name": "python"
    }
  },
  "cells": [
    {
      "cell_type": "markdown",
      "metadata": {
        "id": "view-in-github",
        "colab_type": "text"
      },
      "source": [
        "<a href=\"https://colab.research.google.com/github/adret/ai/blob/master/produit_scalaire.ipynb\" target=\"_parent\"><img src=\"https://colab.research.google.com/assets/colab-badge.svg\" alt=\"Open In Colab\"/></a>"
      ]
    },
    {
      "cell_type": "code",
      "source": [
        "def produit_scalaire( v1, v2):\n",
        "  if len(v1) != len(v2):\n",
        "    raise Exception(\"ERREUR les 2 vecteurs doivent être de même dimension\") \n",
        "  \n",
        "\n",
        "u = [1, 2]\n",
        "v = [2, 2]\n",
        "\n",
        "produit_scalaire(u, v)\n",
        "    \n"
      ],
      "metadata": {
        "id": "eU1b1SMQP5qy"
      },
      "execution_count": 34,
      "outputs": []
    }
  ]
}