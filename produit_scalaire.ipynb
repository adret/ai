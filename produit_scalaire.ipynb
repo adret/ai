{
  "nbformat": 4,
  "nbformat_minor": 0,
  "metadata": {
    "colab": {
      "provenance": [],
      "authorship_tag": "ABX9TyM3UPv+xFOQ7Vl4uWtNiyyv",
      "include_colab_link": true
    },
    "kernelspec": {
      "name": "python3",
      "display_name": "Python 3"
    },
    "language_info": {
      "name": "python"
    }
  },
  "cells": [
    {
      "cell_type": "markdown",
      "metadata": {
        "id": "view-in-github",
        "colab_type": "text"
      },
      "source": [
        "<a href=\"https://colab.research.google.com/github/adret/ai/blob/master/produit_scalaire.ipynb\" target=\"_parent\"><img src=\"https://colab.research.google.com/assets/colab-badge.svg\" alt=\"Open In Colab\"/></a>"
      ]
    },
    {
      "cell_type": "code",
      "execution_count": 2,
      "metadata": {
        "colab": {
          "base_uri": "https://localhost:8080/"
        },
        "id": "sRdUAEw9QBS0",
        "outputId": "d2d6ba93-6fbc-42d0-e2e4-6b76015964d9"
      },
      "outputs": [
        {
          "output_type": "stream",
          "name": "stdout",
          "text": [
            "Bonjour le monde !\n"
          ]
        }
      ],
      "source": [
        "print(\"Bonjour le monde !\")"
      ]
    },
    {
      "cell_type": "code",
      "source": [
        "%system cat /etc/os-release"
      ],
      "metadata": {
        "colab": {
          "base_uri": "https://localhost:8080/"
        },
        "id": "VKdaC1dgRZ-d",
        "outputId": "451ae109-29ac-49e3-af6d-9790bda7bc94"
      },
      "execution_count": 7,
      "outputs": [
        {
          "output_type": "execute_result",
          "data": {
            "text/plain": [
              "['NAME=\"Ubuntu\"',\n",
              " 'VERSION=\"18.04.6 LTS (Bionic Beaver)\"',\n",
              " 'ID=ubuntu',\n",
              " 'ID_LIKE=debian',\n",
              " 'PRETTY_NAME=\"Ubuntu 18.04.6 LTS\"',\n",
              " 'VERSION_ID=\"18.04\"',\n",
              " 'HOME_URL=\"https://www.ubuntu.com/\"',\n",
              " 'SUPPORT_URL=\"https://help.ubuntu.com/\"',\n",
              " 'BUG_REPORT_URL=\"https://bugs.launchpad.net/ubuntu/\"',\n",
              " 'PRIVACY_POLICY_URL=\"https://www.ubuntu.com/legal/terms-and-policies/privacy-policy\"',\n",
              " 'VERSION_CODENAME=bionic',\n",
              " 'UBUNTU_CODENAME=bionic']"
            ]
          },
          "metadata": {},
          "execution_count": 7
        }
      ]
    },
    {
      "cell_type": "code",
      "source": [
        "%system cat /proc/cpuinfo | grep bogomips"
      ],
      "metadata": {
        "colab": {
          "base_uri": "https://localhost:8080/"
        },
        "id": "vih3SZAMRyM8",
        "outputId": "8292eade-bea8-4714-818f-68394f1fbea5"
      },
      "execution_count": 5,
      "outputs": [
        {
          "output_type": "execute_result",
          "data": {
            "text/plain": [
              "['bogomips\\t: 4399.99', 'bogomips\\t: 4399.99']"
            ]
          },
          "metadata": {},
          "execution_count": 5
        }
      ]
    },
    {
      "cell_type": "code",
      "source": [
        "a = 1+2j\n",
        "b = 4-1j\n",
        "c = a*b\n",
        "d = 8.0\n",
        "print(\"a=\", a,\"d=\", d)\n",
        "complex(d)\n",
        "type(d)\n",
        "print(d)"
      ],
      "metadata": {
        "colab": {
          "base_uri": "https://localhost:8080/"
        },
        "id": "oqNzzfKr5icj",
        "outputId": "3d4ffece-3dd3-4d27-a2c8-ffa4f7ea88fd"
      },
      "execution_count": 21,
      "outputs": [
        {
          "output_type": "stream",
          "name": "stdout",
          "text": [
            "a= (1+2j) d= 8.0\n",
            "8.0\n"
          ]
        }
      ]
    },
    {
      "cell_type": "code",
      "source": [
        "import matplotlib.pyplot as plt\n",
        "import math\n",
        "\n",
        "x = [0.1*i for i in range(64)]\n",
        "sin = [math.sin(i+ 4*math.pi/6) for i in x]\n",
        "cos = [math.cos(i) for i in x]\n",
        "\n",
        "plt.plot(x, sin, label='sin(x)', color='blue', linewidth=2.5)\n",
        "plt.plot(x, cos, label='cos(x)', color='red', linewidth=0.5)\n",
        "plt.ylabel('y')\n",
        "plt.xlabel('x')\n",
        "plt.legend(loc='upper right')\n",
        "plt.show()"
      ],
      "metadata": {
        "colab": {
          "base_uri": "https://localhost:8080/",
          "height": 279
        },
        "id": "LzLItoyNb_Ts",
        "outputId": "aebea132-a55e-4c43-d4d9-51f669fb2dbd"
      },
      "execution_count": 31,
      "outputs": [
        {
          "output_type": "display_data",
          "data": {
            "text/plain": [
              "<Figure size 432x288 with 1 Axes>"
            ],
            "image/png": "[encoded data removed]"
          },
          "metadata": {
            "needs_background": "light"
          }
        }
      ]
    },
    {
      "cell_type": "code",
      "source": [
        "def produit_scalaire( v1, v2):\n",
        "  if len(v1) != len(v2):\n",
        "    raise Exception(\"ERREUR les 2 vecteurs doivent être de même dimension\") \n",
        "  \n",
        "  \n",
        "    \n"
      ],
      "metadata": {
        "id": "eU1b1SMQP5qy"
      },
      "execution_count": 32,
      "outputs": []
    }
  ]
}