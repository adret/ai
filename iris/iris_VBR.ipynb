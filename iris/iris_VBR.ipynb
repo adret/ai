{
  "nbformat": 4,
  "nbformat_minor": 0,
  "metadata": {
    "colab": {
      "provenance": [],
      "authorship_tag": "ABX9TyOgQBiJ/wilinQvCXiI6Vsw",
      "include_colab_link": true
    },
    "kernelspec": {
      "name": "python3",
      "display_name": "Python 3"
    },
    "language_info": {
      "name": "python"
    }
  },
  "cells": [
    {
      "cell_type": "markdown",
      "metadata": {
        "id": "view-in-github",
        "colab_type": "text"
      },
      "source": [
        "<a href=\"https://colab.research.google.com/github/adret/ai/blob/master/iris/iris_VBR.ipynb\" target=\"_parent\"><img src=\"https://colab.research.google.com/assets/colab-badge.svg\" alt=\"Open In Colab\"/></a>"
      ]
    },
    {
      "cell_type": "markdown",
      "source": [
        "**TP : reconnaissance d'orchidées (VB)**"
      ],
      "metadata": {
        "id": "VV-ofNEz4zuj"
      }
    },
    {
      "cell_type": "code",
      "source": [
        "# Imports\n",
        "from sklearn import datasets\n",
        "import matplotlib.pyplot as plt\n",
        "import math\n",
        "\n",
        "iris = datasets.load_iris()\n",
        "print(iris.DESCR)"
      ],
      "metadata": {
        "id": "X1af0AYT48HR"
      },
      "execution_count": 2,
      "outputs": []
    }
  ]
}