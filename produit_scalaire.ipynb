{
  "nbformat": 4,
  "nbformat_minor": 0,
  "metadata": {
    "colab": {
      "provenance": [],
      "authorship_tag": "ABX9TyMNN8fHN2qexOMIdqGuIGYV",
      "include_colab_link": true
    },
    "kernelspec": {
      "name": "python3",
      "display_name": "Python 3"
    },
    "language_info": {
      "name": "python"
    }
  },
  "cells": [
    {
      "cell_type": "markdown",
      "metadata": {
        "id": "view-in-github",
        "colab_type": "text"
      },
      "source": [
        "<a href=\"https://colab.research.google.com/github/adret/ai/blob/master/produit_scalaire.ipynb\" target=\"_parent\"><img src=\"https://colab.research.google.com/assets/colab-badge.svg\" alt=\"Open In Colab\"/></a>"
      ]
    },
    {
      "cell_type": "code",
      "source": [
        "def produit_scalaire( v1, v2):\n",
        "  if len(v1) != len(v2):\n",
        "    raise Exception(\"ERREUR les 2 vecteurs doivent être de même dimension\")\n",
        "  \n",
        "  scal = 0\n",
        "\n",
        "  for i in range(len(v1)):\n",
        "    scal += v1[i] * v2[i]\n",
        "  \n",
        "  return scal\n",
        "  \n",
        "\n",
        "u = [1, 2]\n",
        "v = [2, 2]\n",
        "\n",
        "u_v = produit_scalaire(u, v)\n",
        "\n",
        "print(\"u scalaire v =\", u_v)\n",
        "    \n"
      ],
      "metadata": {
        "colab": {
          "base_uri": "https://localhost:8080/"
        },
        "id": "eU1b1SMQP5qy",
        "outputId": "bc24038e-21b1-48cc-e759-cf63396593dd"
      },
      "execution_count": 38,
      "outputs": [
        {
          "output_type": "stream",
          "name": "stdout",
          "text": [
            "u scalaire v = 6\n"
          ]
        }
      ]
    }
  ]
}