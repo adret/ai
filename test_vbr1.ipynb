{
  "nbformat": 4,
  "nbformat_minor": 0,
  "metadata": {
    "colab": {
      "provenance": [],
      "authorship_tag": "ABX9TyNnBshLCAuCFHqrNTvLZdKo",
      "include_colab_link": true
    },
    "kernelspec": {
      "name": "python3",
      "display_name": "Python 3"
    },
    "language_info": {
      "name": "python"
    }
  },
  "cells": [
    {
      "cell_type": "markdown",
      "metadata": {
        "id": "view-in-github",
        "colab_type": "text"
      },
      "source": [
        "<a href=\"https://colab.research.google.com/github/adret/ai/blob/master/test_vbr1.ipynb\" target=\"_parent\"><img src=\"https://colab.research.google.com/assets/colab-badge.svg\" alt=\"Open In Colab\"/></a>"
      ]
    },
    {
      "cell_type": "code",
      "execution_count": 9,
      "metadata": {
        "colab": {
          "base_uri": "https://localhost:8080/"
        },
        "id": "havrdRS_6i8q",
        "outputId": "46adc0c6-1197-40e5-f421-b87be0c88cb8"
      },
      "outputs": [
        {
          "output_type": "stream",
          "name": "stdout",
          "text": [
            "Overwriting test1.py\n"
          ]
        }
      ],
      "source": [
        "%%writefile test1.py\n",
        "print(\"Bonjour le monde !\")\n",
        "\n",
        "def addition(a, b):\n",
        "  return a+b\n",
        "\n",
        "x = 4\n",
        "y = 3.77\n",
        "\n",
        "z = addition(x, y)\n",
        "\n",
        "print(\"z vaut : \", z)"
      ]
    },
    {
      "cell_type": "code",
      "source": [
        "!pwd\n",
        "!ls -lah\n",
        "#!cat test1.py\n",
        "!python test1.py\n"
      ],
      "metadata": {
        "colab": {
          "base_uri": "https://localhost:8080/"
        },
        "id": "TOX1g_AO7C-K",
        "outputId": "8b9bbe11-a5e7-481f-8fd8-c112a2011ad6"
      },
      "execution_count": 11,
      "outputs": [
        {
          "output_type": "stream",
          "name": "stdout",
          "text": [
            "/content\n",
            "total 20K\n",
            "drwxr-xr-x 1 root root 4.0K Jan 14 10:58 .\n",
            "drwxr-xr-x 1 root root 4.0K Jan 14 10:55 ..\n",
            "drwxr-xr-x 4 root root 4.0K Jan  9 14:35 .config\n",
            "drwxr-xr-x 1 root root 4.0K Jan  9 14:36 sample_data\n",
            "-rw-r--r-- 1 root root  121 Jan 14 10:59 test1.py\n",
            "Bonjour le monde !\n",
            "z vaut :  7.77\n"
          ]
        }
      ]
    }
  ]
}