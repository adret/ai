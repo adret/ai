{
  "nbformat": 4,
  "nbformat_minor": 0,
  "metadata": {
    "colab": {
      "provenance": [],
      "authorship_tag": "ABX9TyOwRYX9SOPpDuL5HkFs3VIe",
      "include_colab_link": true
    },
    "kernelspec": {
      "name": "python3",
      "display_name": "Python 3"
    },
    "language_info": {
      "name": "python"
    }
  },
  "cells": [
    {
      "cell_type": "markdown",
      "metadata": {
        "id": "view-in-github",
        "colab_type": "text"
      },
      "source": [
        "<a href=\"https://colab.research.google.com/github/adret/ai/blob/master/orchidees_VBR.ipynb\" target=\"_parent\"><img src=\"https://colab.research.google.com/assets/colab-badge.svg\" alt=\"Open In Colab\"/></a>"
      ]
    },
    {
      "cell_type": "markdown",
      "source": [
        "**TP : reconnaissance d'orchidées (VB)**"
      ],
      "metadata": {
        "id": "VV-ofNEz4zuj"
      }
    },
    {
      "cell_type": "code",
      "source": [],
      "metadata": {
        "id": "X1af0AYT48HR"
      },
      "execution_count": null,
      "outputs": []
    }
  ]
}