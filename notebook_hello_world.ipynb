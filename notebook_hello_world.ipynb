{
  "nbformat": 4,
  "nbformat_minor": 0,
  "metadata": {
    "colab": {
      "provenance": [],
      "authorship_tag": "ABX9TyMSInSvNMTRw3sKvrOKK2hi",
      "include_colab_link": true
    },
    "kernelspec": {
      "name": "python3",
      "display_name": "Python 3"
    },
    "language_info": {
      "name": "python"
    }
  },
  "cells": [
    {
      "cell_type": "markdown",
      "metadata": {
        "id": "view-in-github",
        "colab_type": "text"
      },
      "source": [
        "<a href=\"https://colab.research.google.com/github/adret/ai/blob/master/notebook_hello_world.ipynb\" target=\"_parent\"><img src=\"https://colab.research.google.com/assets/colab-badge.svg\" alt=\"Open In Colab\"/></a>"
      ]
    },
    {
      "cell_type": "code",
      "execution_count": 2,
      "metadata": {
        "colab": {
          "base_uri": "https://localhost:8080/"
        },
        "id": "sRdUAEw9QBS0",
        "outputId": "d2d6ba93-6fbc-42d0-e2e4-6b76015964d9"
      },
      "outputs": [
        {
          "output_type": "stream",
          "name": "stdout",
          "text": [
            "Bonjour le monde !\n"
          ]
        }
      ],
      "source": [
        "print(\"Bonjour le monde !\")"
      ]
    },
    {
      "cell_type": "code",
      "source": [
        "%system cat /etc/os-release"
      ],
      "metadata": {
        "colab": {
          "base_uri": "https://localhost:8080/"
        },
        "id": "VKdaC1dgRZ-d",
        "outputId": "451ae109-29ac-49e3-af6d-9790bda7bc94"
      },
      "execution_count": 7,
      "outputs": [
        {
          "output_type": "execute_result",
          "data": {
            "text/plain": [
              "['NAME=\"Ubuntu\"',\n",
              " 'VERSION=\"18.04.6 LTS (Bionic Beaver)\"',\n",
              " 'ID=ubuntu',\n",
              " 'ID_LIKE=debian',\n",
              " 'PRETTY_NAME=\"Ubuntu 18.04.6 LTS\"',\n",
              " 'VERSION_ID=\"18.04\"',\n",
              " 'HOME_URL=\"https://www.ubuntu.com/\"',\n",
              " 'SUPPORT_URL=\"https://help.ubuntu.com/\"',\n",
              " 'BUG_REPORT_URL=\"https://bugs.launchpad.net/ubuntu/\"',\n",
              " 'PRIVACY_POLICY_URL=\"https://www.ubuntu.com/legal/terms-and-policies/privacy-policy\"',\n",
              " 'VERSION_CODENAME=bionic',\n",
              " 'UBUNTU_CODENAME=bionic']"
            ]
          },
          "metadata": {},
          "execution_count": 7
        }
      ]
    },
    {
      "cell_type": "code",
      "source": [
        "%system cpuinfo"
      ],
      "metadata": {
        "colab": {
          "base_uri": "https://localhost:8080/"
        },
        "id": "vih3SZAMRyM8",
        "outputId": "8256df55-120c-499d-b7fe-dc4aa2a7349c"
      },
      "execution_count": 13,
      "outputs": [
        {
          "output_type": "execute_result",
          "data": {
            "text/plain": [
              "['/bin/bash: cpuinfo: command not found']"
            ]
          },
          "metadata": {},
          "execution_count": 13
        }
      ]
    }
  ]
}