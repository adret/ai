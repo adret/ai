{
  "nbformat": 4,
  "nbformat_minor": 0,
  "metadata": {
    "colab": {
      "provenance": [],
      "authorship_tag": "ABX9TyPIpCWnQvFdIOf8R5jS70bv",
      "include_colab_link": true
    },
    "kernelspec": {
      "name": "python3",
      "display_name": "Python 3"
    },
    "language_info": {
      "name": "python"
    }
  },
  "cells": [
    {
      "cell_type": "markdown",
      "metadata": {
        "id": "view-in-github",
        "colab_type": "text"
      },
      "source": [
        "<a href=\"https://colab.research.google.com/github/adret/ai/blob/master/test_vbr.ipynb\" target=\"_parent\"><img src=\"https://colab.research.google.com/assets/colab-badge.svg\" alt=\"Open In Colab\"/></a>"
      ]
    },
    {
      "cell_type": "code",
      "execution_count": 1,
      "metadata": {
        "colab": {
          "base_uri": "https://localhost:8080/"
        },
        "id": "havrdRS_6i8q",
        "outputId": "e7850414-f62d-465f-e571-1e6cd4e1d9d8"
      },
      "outputs": [
        {
          "output_type": "stream",
          "name": "stdout",
          "text": [
            "Bonjour le monde !\n",
            "z vaut :  7.77\n"
          ]
        }
      ],
      "source": [
        "print(\"Bonjour le monde !\")\n",
        "\n",
        "def addition(a, b):\n",
        "  return a+b\n",
        "\n",
        "x = 4\n",
        "y = 3.77\n",
        "\n",
        "z = addition(x, y)\n",
        "\n",
        "print(\"z vaut : \", z)"
      ]
    }
  ]
}